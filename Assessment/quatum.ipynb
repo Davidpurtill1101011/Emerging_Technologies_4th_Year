{
 "cells": [
  {
   "cell_type": "markdown",
   "metadata": {},
   "source": [
    "# Quatum-Deutsch by David Purtill"
   ]
  },
  {
   "cell_type": "markdown",
   "metadata": {},
   "source": [
    "***\n",
    "### Comparison between Quantum computers and Normal Computers\n",
    "One of the big differences is that the cost is the price for a quantum computer compared to a normal computer, the average person cannot use a quantum computer as it needs to be monitored on a regualar basis but with a normal computer you can walk away from it for a few hours and at most it would have gone to an automatic sleep but with a quantum computer it can all chnage in an instant if the temps drop as it needs to be as cold -270 which is almost as cold as the vaccum of space. With quantum computers they have a thing called the **Superposition** and it is used for solving problems, and when in the superposition it can be started in a position that is equal to every possible soloution to the problem at hand, so if you were to start it at 2^300 then with just that number alone it equals to a number bigger than all the particles in the universe.\n",
    "\n",
    "There is also calculation that can be done on both a Computers but it takes the normal machine about 10,000 years to complete and about 200secs for the quantum computer to complete.\n",
    "\n",
    "Another extordinary use for quantum computers is that it can be used to find cures for virus's and come up with potential vaccines which is something that in this day in age is needed now with the such of covid.\n",
    "\n",
    "As much as the normal computer has done for the history of its short life and will also be still around in years and years to come. It has still done great work on its own and somethings are well suited for it, but for it stand up to a quantum computer it just wont stand a chance as they are trying to make a thing called the trinary system that uses 0,1,2 instead of the normal binary system. And currently with the Qubits it can a bit in a quantum computer can be both a 0 or a 1 at the same time."
   ]
  },
  {
   "cell_type": "code",
   "execution_count": 1,
   "metadata": {},
   "outputs": [],
   "source": [
    "#lib for qiskit\n",
    "import qiskit\n",
    "#lib from qiskit for aer, these then in turn work like quantum computers\n",
    "import qiskit.providers.aer as aer\n",
    "#library for matplot\n",
    "import matplotlib.pyplot as plt\n",
    "#changing the plot style\n",
    "plt.style.use('ggplot')"
   ]
  },
  {
   "cell_type": "markdown",
   "metadata": {},
   "source": [
    "### Prelims\n",
    "***\n",
    "##### Qubits using ket notation\n",
    "$|0 \\rangle = \\begin{matrix} 1 \\\\ 0 \\end{matrix}$\n",
    "\n",
    "$|1 \\rangle = \\begin{matrix} 0 \\\\ 1 \\end{matrix}$\n",
    "\n",
    "$|\\psi \\rangle = \\begin{bmatrix} \\alpha \\\\ \\beta \\end{bmatrix} = \\alpha |0 + \\beta|1 \\rangle$"
   ]
  },
  {
   "cell_type": "markdown",
   "metadata": {},
   "source": [
    "***\n",
    "### Quantum gates\n",
    "$H = \\begin{bmatrix} \\frac{1}{\\sqrt{2}} & \\frac{1}{\\sqrt{2}} \\\\ \\frac{1}{\\sqrt{2}} & -\\frac{1}{\\sqrt{2}} \\end{bmatrix} = \\frac{1}{\\sqrt{2}} \\begin{bmatrix} 1 & 1 \\\\ 1 & -1 \\end{bmatrix}$\n",
    "\n",
    "$H | 0 \\rangle = \\frac{1}{\\sqrt{2}} \\begin{bmatrix} 1 & 1 \\\\ 1 & -1 \\end{bmatrix} \\begin{bmatrix} 1 & 0  \\end{bmatrix} = \\frac{1}{\\sqrt{2}} \\begin{bmatrix} 1 \\\\ 1 \\end{bmatrix} = \\begin{bmatrix}  \\frac{1} {\\sqrt{2}} \\\\ \\frac{1}{\\sqrt{2}} \\end{bmatrix} = |+\\rangle$\n",
    "\n",
    "\n",
    "$H | 1 \\rangle = \\frac{1}{\\sqrt{2}} \\begin{bmatrix} 1 & 1 \\\\ 1 & -1 \\end{bmatrix} \\begin{bmatrix} 0 & 1  \\end{bmatrix} = \\frac{1}{\\sqrt{2}} \\begin{bmatrix} 1 \\\\ -1 \\end{bmatrix} = \\begin{bmatrix}  \\frac{1} {\\sqrt{2}} \\\\ -\\frac{1}{\\sqrt{2}} \\end{bmatrix} = |-\\rangle$\n",
    "\n",
    "- The equations above that show valid Qubit states\n",
    "\n",
    "$H^* = H^{-1}$\n",
    "\n",
    "- the equation above is what makes a matrix into a valid qubit gate where H* is the inverse of H, H = conjugate transpose, transposing matrix H makes rows into cols\n",
    "\n",
    "$(a+bi)^* = a - bi$\n",
    "\n",
    "- having a complex number such as a+bi and to conjugate it you would turn the (- into a +) or a (+ into a -)\n",
    "\n",
    "$I = \\begin{bmatrix} 1 & 0 \\\\ 0 & 1 \\end{bmatrix}$\n",
    "\n",
    "- here you have a (martix * matrix) and it gives you the same matrix back. Similar to 1 * 1 = 1"
   ]
  },
  {
   "cell_type": "markdown",
   "metadata": {},
   "source": [
    "### Measurements\n",
    "\n",
    "**For measurements change the ket into a row vector. Use the conjugate from the entries if they are complex. Then multiply the matrix.**\n",
    "\n",
    "$|\\psi\\rangle = \\begin{bmatrix} \\alpha \\\\ \\beta \\end{bmatrix} \\Leftrightarrow \\langle \\psi | = \\begin{bmatrix} \\alpha^* & \\beta^* \\end{bmatrix}$\n",
    "\n",
    "**checking $|0\\rangle$ when in $|+\\rangle$**\n",
    "\n",
    "- below in the equation you take bra of zero and then put it a row vector, and there is no conjugate as there in no pretend items\n",
    "\n",
    "$|\\langle 0 | + \\rangle |^2 = |\\langle 0 || + \\rangle |^2 = | \\begin{bmatrix} 1 & 0 \\end{bmatrix} \\begin{bmatrix} \\frac{1}{\\sqrt{2}} \\\\ \\frac{1}{\\sqrt{2}} \\end{bmatrix} |^2 = |(1)(\\frac{1}{\\sqrt{2}}) + (0)(\\frac{1}{\\sqrt{2}})|^2 = (\\frac{1}{\\sqrt{2}})^2 = \\frac{1}{2}$\n",
    "\n",
    "- in the above equation you have the bra format and the ket format and with them you take the magnitude and then square it\n",
    "\n",
    "$|a+bi| = \\sqrt{(a+bi(a-bi)} = \\sqrt{a^2 + b^2}$  here we have the magnitude of |a+bi|\n",
    "\n",
    "**checking $|1\\rangle$ when in $|-\\rangle$**\n",
    "\n",
    "$|\\langle 1 | - \\rangle |^2 = |\\langle 1 || - \\rangle |^2 = | \\begin{bmatrix} 0 & 1 \\end{bmatrix} \\begin{bmatrix} \\frac{1}{\\sqrt{2}} \\\\ -\\frac{1}{\\sqrt{2}} \\end{bmatrix} |^2 = |(0)(\\frac{1}{\\sqrt{2}}) + (0)(-\\frac{1}{\\sqrt{2}})|^2 = (-\\frac{1}{\\sqrt{2}})^2 = \\frac{1}{2}$\n",
    "\n",
    "**checking $|1\\rangle$ when in $|0\\rangle$**\n",
    "\n",
    "$|\\langle 1 | 0 \\rangle |^2 == \\begin{bmatrix} 0 & 1 \\end{bmatrix} \\begin{bmatrix} 1 \\\\ 0 \\end{bmatrix} |^2 = |(0)(1) + (1)(0)|^2 = 0$\n",
    "\n"
   ]
  },
  {
   "cell_type": "markdown",
   "metadata": {},
   "source": [
    "### Multiple Qubits\n",
    "\n",
    "Qubit 1: $|0\\rangle = \\begin{bmatrix} 1 \\\\ 0 \\end{bmatrix}$\n",
    "\n",
    "Qubit 2: $|1\\rangle = \\begin{bmatrix} 0 \\\\ 1 \\end{bmatrix}$\n",
    "\n",
    "Below shows both together\n",
    "\n",
    "Q1 and Q2: $|01\\rangle = |0\\rangle \\bigotimes |1\\rangle \\begin{bmatrix} 1 \\begin{bmatrix} 0 \\\\ 1 \\end{bmatrix} \\\\ 0 \\begin{bmatrix} 0 \\\\ 1 \\end{bmatrix} \\end{bmatrix} = \\begin{bmatrix} (1)(0) \\\\ (1)(1) \\\\ (0)(1) \\\\ (0)(0) \\end{bmatrix} = \\begin{bmatrix} 0 \\\\ 1 \\\\ 0 \\\\ 0 \\end{bmatrix}$ "
   ]
  },
  {
   "cell_type": "markdown",
   "metadata": {},
   "source": [
    "### $CNOT$ Gate\n",
    "\n",
    "The CNOT gate is the best way for 2 qubits work together.\n",
    "\n",
    "$CNOT = \\begin{bmatrix} 1 & 0 & 0 & 0 \\\\ 0 & 1 & 0 & 0 \\\\ 0 & 0 & 0 & 1 \\\\ 0 & 0 & 1 & 0 \\end{bmatrix}$\n",
    "\n",
    "$CNOT \\times |01\\rangle = \\begin{bmatrix} 1 & 0 & 0 & 0 \\\\ 0 & 1 & 0 & 0 \\\\ 0 & 0 & 0 & 1 \\\\ 0 & 0 & 1 & 0 \\end{bmatrix} \\begin{bmatrix} 0 \\\\ 1 \\\\ 0 \\\\ 0 \\end{bmatrix} = \\begin{bmatrix} 0 \\\\ 1 \\\\ 0 \\\\ 0 \\end{bmatrix} = |01\\rangle$\n",
    "\n",
    "$CNOT \\times |10\\rangle = \\begin{bmatrix} 1 & 0 & 0 & 0 \\\\ 0 & 1 & 0 & 0 \\\\ 0 & 0 & 0 & 1 \\\\ 0 & 0 & 1 & 0 \\end{bmatrix} \\begin{bmatrix} 0 \\\\ 0 \\\\ 1 \\\\ 0 \\end{bmatrix} = \\begin{bmatrix} 0 \\\\ 0 \\\\ 0 \\\\ 1 \\end{bmatrix} = |11\\rangle$\n",
    "\n"
   ]
  },
  {
   "cell_type": "markdown",
   "metadata": {},
   "source": [
    "### H followed by $CNOT$\n",
    "\n",
    "__Kronecker Product__\n",
    "\n",
    "$H \\bigotimes H = \\begin{bmatrix} \\frac{1}{\\sqrt{2}} \\begin{bmatrix} \\frac{1}{\\sqrt{2}} & \\frac{1}{\\sqrt{2}} \\\\ \\frac{1}{\\sqrt{2}} & -\\frac{1}{\\sqrt{2}} \\end{bmatrix} & \\frac{1}{\\sqrt{2}} \\begin{bmatrix} \\frac{1}{\\sqrt{2}} & \\frac{1}{\\sqrt{2}} \\\\ \\frac{1}{\\sqrt{2}} & -\\frac{1}{\\sqrt{2}} \\end{bmatrix} \\\\ \\frac{1}{\\sqrt{2}} \\begin{bmatrix} \\frac{1}{\\sqrt{2}} & \\frac{1}{\\sqrt{2}} \\\\ \\frac{1}{\\sqrt{2}} & -\\frac{1}{\\sqrt{2}} \\end{bmatrix} & -\\frac{1}{\\sqrt{2}} \\begin{bmatrix} \\frac{1}{\\sqrt{2}} & \\frac{1}{\\sqrt{2}} \\\\ \\frac{1}{\\sqrt{2}} & -\\frac{1}{\\sqrt{2}} \\end{bmatrix} \\end{bmatrix}$\n",
    "\n",
    "\n",
    "$CNOT \\times (H \\bigotimes H) \\times |10\\rangle = \\begin{bmatrix} 1 & 0 & 0 & 0 \\\\ 0 & 1 & 0 & 0 \\\\ 0 & 0 & 0 & 1 \\\\ 0 & 0 & 1 & 0 \\end{bmatrix} \\frac{1}{2} \\begin{bmatrix} 1 & 1 & 1 & 1 \\\\ 1 & -1 & 1 & -1 \\\\ 1 & 1 & -1 & -1 \\\\ 1 & -1 & -1 & 1 \\end{bmatrix} \\begin{bmatrix} 0 \\\\ 0 \\\\ 1 \\\\ 0 \\end{bmatrix} = \\begin{bmatrix} \\frac{1}{2} \\\\ \\frac{1}{2} \\\\ -\\frac{1}{2} \\\\ -\\frac{1}{2} \\end{bmatrix}$\n",
    "\n",
    "$(\\frac{1}{2})^2 + (\\frac{1}{2})^2 + (-\\frac{1}{2})^2 + (-\\frac{1}{2})^2 = \\frac{1}{4} + \\frac{1}{4} + \\frac{1}{4} + \\frac{1}{4} = 1$ "
   ]
  },
  {
   "cell_type": "markdown",
   "metadata": {},
   "source": [
    "### Function Oracles\n",
    "\n",
    "$|01\\rangle = \\begin{bmatrix} 0 \\\\ 1 \\\\ 0 \\\\ 0 \\end{bmatrix} \\begin{matrix} |00\\rangle \\\\ |01\\rangle \\\\ |10\\rangle \\\\ |11\\rangle \\end{matrix}$\n",
    "\n",
    "#### Balance: $f(0) = 0$ and $f(1) = 1$ (input to output)\n",
    "\n",
    "Below is what Deutsch's algorithm needs to run as .\n",
    "\n",
    "$|x,y\\rangle \\rightarrow |x, y\\oplus f(x) \\rangle$\n",
    "\n",
    "$\\begin{matrix} |00\\rangle \\\\ |01\\rangle \\\\ |10\\rangle \\\\ |11\\rangle \\end{matrix} \\rightarrow \\begin{matrix} |00\\rangle \\\\ |01\\rangle \\\\ |11\\rangle \\\\ |10\\rangle \\end{matrix}$\n",
    "\n",
    "\n",
    "#### Balance: $f(0) = 1$ and $f(1) = 0$\n",
    "\n",
    "Below is what Deutsch's algorithm needs to run as.\n",
    "\n",
    "$|x,y\\rangle \\rightarrow |x, y\\oplus f(x) \\rangle$\n",
    "\n",
    "$\\begin{matrix} |00\\rangle \\\\ |01\\rangle \\\\ |10\\rangle \\\\ |11\\rangle \\end{matrix} \\rightarrow \\begin{matrix} |01\\rangle \\\\ |00\\rangle \\\\ |10\\rangle \\\\ |11\\rangle \\end{matrix}$"
   ]
  },
  {
   "cell_type": "markdown",
   "metadata": {},
   "source": [
    "#### Constant of: $f(0) = 1$ and $f(1) = 1$\n",
    "\n",
    "$|01\\rangle = \\begin{bmatrix} 0 \\\\ 1 \\\\ 0 \\\\ 0 \\end{bmatrix} \\begin{matrix} |00\\rangle \\\\ |01\\rangle \\\\ |10\\rangle \\\\ |11\\rangle \\end{matrix}$\n",
    "\n",
    "Below is what Deutsch's algorithm needs to run as.\n",
    "\n",
    "$|x,y\\rangle \\rightarrow |x, y\\oplus f(x) \\rangle$\n",
    "\n",
    "$\\begin{matrix} |00\\rangle \\\\ |01\\rangle \\\\ |10\\rangle \\\\ |11\\rangle \\end{matrix} \\rightarrow \\begin{matrix} |01\\rangle \\\\ |00\\rangle \\\\ |11\\rangle \\\\ |10\\rangle \\end{matrix}$\n",
    "\n",
    "\n",
    "#### Constant of: $f(0) = 0$ and $f(1) = 0$\n",
    "\n",
    "$|01\\rangle = \\begin{bmatrix} 0 \\\\ 1 \\\\ 0 \\\\ 0 \\end{bmatrix} \\begin{matrix} |00\\rangle \\\\ |01\\rangle \\\\ |10\\rangle \\\\ |11\\rangle \\end{matrix}$\n",
    "\n",
    "Below is what Deutsch's algorithm needs to run as.\n",
    "\n",
    "$|x,y\\rangle \\rightarrow |x, y\\oplus f(x) \\rangle$\n",
    "\n",
    "$\\begin{matrix} |00\\rangle \\\\ |01\\rangle \\\\ |10\\rangle \\\\ |11\\rangle \\end{matrix} \\rightarrow \\begin{matrix} |00\\rangle \\\\ |01\\rangle \\\\ |10\\rangle \\\\ |11\\rangle \\end{matrix}$ "
   ]
  },
  {
   "cell_type": "code",
   "execution_count": 2,
   "metadata": {},
   "outputs": [],
   "source": [
    "# making a quantum circuit - 1 qubit they need 2 qubits\n",
    "c = qiskit.QuantumCircuit(2,1)"
   ]
  },
  {
   "cell_type": "code",
   "execution_count": 3,
   "metadata": {},
   "outputs": [
    {
     "data": {
      "text/plain": [
       "<qiskit.circuit.instructionset.InstructionSet at 0x7fc1f8eb8a00>"
      ]
     },
     "execution_count": 3,
     "metadata": {},
     "output_type": "execute_result"
    }
   ],
   "source": [
    "# setting qubit 1 \n",
    "c.initialize([1,0],0)"
   ]
  },
  {
   "cell_type": "code",
   "execution_count": 4,
   "metadata": {},
   "outputs": [
    {
     "data": {
      "text/plain": [
       "<qiskit.circuit.instructionset.InstructionSet at 0x7fc1f7fb21c0>"
      ]
     },
     "execution_count": 4,
     "metadata": {},
     "output_type": "execute_result"
    }
   ],
   "source": [
    "# setting qubit 1 \n",
    "c.initialize([0,1],1)"
   ]
  },
  {
   "cell_type": "code",
   "execution_count": 5,
   "metadata": {},
   "outputs": [
    {
     "data": {
      "text/plain": [
       "<qiskit.circuit.instructionset.InstructionSet at 0x7fc1f54587c0>"
      ]
     },
     "execution_count": 5,
     "metadata": {},
     "output_type": "execute_result"
    }
   ],
   "source": [
    "# hardamard gate for qubit 1\n",
    "c.h(0)"
   ]
  },
  {
   "cell_type": "code",
   "execution_count": 6,
   "metadata": {},
   "outputs": [
    {
     "data": {
      "text/plain": [
       "<qiskit.circuit.instructionset.InstructionSet at 0x7fc1f8eba1c0>"
      ]
     },
     "execution_count": 6,
     "metadata": {},
     "output_type": "execute_result"
    }
   ],
   "source": [
    "# hardamard gate for qubit 2\n",
    "c.h(1)"
   ]
  },
  {
   "cell_type": "code",
   "execution_count": 7,
   "metadata": {},
   "outputs": [
    {
     "data": {
      "text/plain": [
       "<qiskit.circuit.instructionset.InstructionSet at 0x7fc1f8e0b440>"
      ]
     },
     "execution_count": 7,
     "metadata": {},
     "output_type": "execute_result"
    }
   ],
   "source": [
    "#gate id\n",
    "c.i(1)"
   ]
  },
  {
   "cell_type": "code",
   "execution_count": 8,
   "metadata": {},
   "outputs": [
    {
     "data": {
      "text/plain": [
       "<qiskit.circuit.instructionset.InstructionSet at 0x7fc1f8ed1440>"
      ]
     },
     "execution_count": 8,
     "metadata": {},
     "output_type": "execute_result"
    }
   ],
   "source": [
    "# second gate for qubit 1\n",
    "c.h(0)"
   ]
  },
  {
   "cell_type": "code",
   "execution_count": 9,
   "metadata": {},
   "outputs": [
    {
     "data": {
      "text/plain": [
       "<qiskit.circuit.instructionset.InstructionSet at 0x7fc1f89bff80>"
      ]
     },
     "execution_count": 9,
     "metadata": {},
     "output_type": "execute_result"
    }
   ],
   "source": [
    "c.measure(0,0)"
   ]
  },
  {
   "cell_type": "code",
   "execution_count": 10,
   "metadata": {},
   "outputs": [
    {
     "data": {
      "image/png": "[encoded data removed]",
      "text/plain": [
       "<Figure size 654.504x409.36 with 1 Axes>"
      ]
     },
     "execution_count": 10,
     "metadata": {},
     "output_type": "execute_result"
    }
   ],
   "source": [
    "c.draw(output='mpl', scale=2)"
   ]
  },
  {
   "cell_type": "code",
   "execution_count": 11,
   "metadata": {},
   "outputs": [],
   "source": [
    "#sim instance\n",
    "sim = aer.QasmSimulator()"
   ]
  },
  {
   "cell_type": "code",
   "execution_count": 12,
   "metadata": {},
   "outputs": [],
   "source": [
    "# circuit inside of simulator\n",
    "cc = qiskit.transpile(c, sim)"
   ]
  },
  {
   "cell_type": "code",
   "execution_count": 13,
   "metadata": {},
   "outputs": [],
   "source": [
    "#siming the circuit multiple times\n",
    "j = sim.run(cc,shots=1000)"
   ]
  },
  {
   "cell_type": "code",
   "execution_count": 15,
   "metadata": {},
   "outputs": [],
   "source": [
    "result = j.result()"
   ]
  },
  {
   "cell_type": "code",
   "execution_count": 17,
   "metadata": {},
   "outputs": [
    {
     "data": {
      "text/plain": [
       "{'0': 1000}"
      ]
     },
     "execution_count": 17,
     "metadata": {},
     "output_type": "execute_result"
    }
   ],
   "source": [
    "count = result.get_counts()\n",
    "count"
   ]
  },
  {
   "cell_type": "code",
   "execution_count": 21,
   "metadata": {},
   "outputs": [
    {
     "data": {
      "image/png": "[encoded data removed]",
      "text/plain": [
       "<Figure size 72x360 with 1 Axes>"
      ]
     },
     "execution_count": 21,
     "metadata": {},
     "output_type": "execute_result"
    }
   ],
   "source": [
    "#displaying graph\n",
    "qiskit.visualization.plot_histogram(count, figsize=(1,5))"
   ]
  },
  {
   "cell_type": "markdown",
   "metadata": {},
   "source": [
    "***\n",
    "### Constant One Func"
   ]
  },
  {
   "cell_type": "code",
   "execution_count": 24,
   "metadata": {},
   "outputs": [
    {
     "data": {
      "image/png": "[encoded data removed]",
      "text/plain": [
       "<Figure size 654.504x409.36 with 1 Axes>"
      ]
     },
     "execution_count": 24,
     "metadata": {},
     "output_type": "execute_result"
    }
   ],
   "source": [
    "#assigning the qubits and the gates and then outputting the results\n",
    "c = qiskit.QuantumCircuit(2,1)\n",
    "c.initialize([1,0],0)\n",
    "c.initialize([0,1],1)\n",
    "c.h((0,1))\n",
    "c.x(1)\n",
    "c.h(0)\n",
    "c.measure(0,0)\n",
    "c.draw(output='mpl', scale=2)"
   ]
  },
  {
   "cell_type": "code",
   "execution_count": 25,
   "metadata": {},
   "outputs": [
    {
     "data": {
      "image/png": "[encoded data removed]",
      "text/plain": [
       "<Figure size 72x360 with 1 Axes>"
      ]
     },
     "execution_count": 25,
     "metadata": {},
     "output_type": "execute_result"
    }
   ],
   "source": [
    "#creating the simulation and then a curcuit for it to loop around\n",
    "#and then finally output the graph\n",
    "sim = aer.QasmSimulator()\n",
    "cc = qiskit.transpile(c, sim)\n",
    "j = sim.run(cc,shots=1000)\n",
    "result = j.result()\n",
    "count = result.get_counts()\n",
    "qiskit.visualization.plot_histogram(count, figsize=(1,5))"
   ]
  },
  {
   "cell_type": "markdown",
   "metadata": {},
   "source": [
    "***\n",
    "### Balance: f(0) = 0, f(1) = 1"
   ]
  },
  {
   "cell_type": "code",
   "execution_count": 34,
   "metadata": {},
   "outputs": [
    {
     "data": {
      "image/png": "[encoded data removed]",
      "text/plain": [
       "<Figure size 774.904x409.36 with 1 Axes>"
      ]
     },
     "execution_count": 34,
     "metadata": {},
     "output_type": "execute_result"
    }
   ],
   "source": [
    "# assigning the qubits and the gates and then outputting the results\n",
    "c = qiskit.QuantumCircuit(2, 1)\n",
    "c.initialize([1, 0], 0)\n",
    "c.initialize([0, 1], 1)\n",
    "c.h((0, 1))\n",
    "# CNOT gate\n",
    "c.cnot(0, 1)\n",
    "c.h(0)\n",
    "c.measure(0, 0)\n",
    "c.draw(output='mpl', scale=2) "
   ]
  },
  {
   "cell_type": "code",
   "execution_count": 35,
   "metadata": {},
   "outputs": [
    {
     "data": {
      "image/png": "[encoded data removed]",
      "text/plain": [
       "<Figure size 72x360 with 1 Axes>"
      ]
     },
     "execution_count": 35,
     "metadata": {},
     "output_type": "execute_result"
    }
   ],
   "source": [
    "#creating the simulation and then a curcuit for it to loop around\n",
    "#and then finally output the graph\n",
    "simulator = aer.QasmSimulator()\n",
    "cc = qiskit.transpile(circuit, simulator)\n",
    "job = simulator.run(compcircuit, shots=1000)\n",
    "results = job.result()\n",
    "counts = results.get_counts()\n",
    "qiskit.visualization.plot_histogram(counts, figsize=(1, 5)) "
   ]
  },
  {
   "cell_type": "markdown",
   "metadata": {},
   "source": [
    "***\n",
    "### Balance: f(0) = 1, f(1) = 0"
   ]
  },
  {
   "cell_type": "code",
   "execution_count": 36,
   "metadata": {},
   "outputs": [
    {
     "data": {
      "image/png": "[encoded data removed]",
      "text/plain": [
       "<Figure size 774.904x409.36 with 1 Axes>"
      ]
     },
     "execution_count": 36,
     "metadata": {},
     "output_type": "execute_result"
    }
   ],
   "source": [
    "# assigning the qubits and the gates and then outputting the results\n",
    "c = qiskit.QuantumCircuit(2, 1)\n",
    "c.initialize([1, 0], 0)\n",
    "c.initialize([0, 1], 1)\n",
    "c.h((0, 1))\n",
    "c.cnot(0, 1)\n",
    "c.x(1)\n",
    "c.h(0)\n",
    "c.measure(0, 0)\n",
    "c.draw(output='mpl', scale=2) "
   ]
  },
  {
   "cell_type": "code",
   "execution_count": 37,
   "metadata": {},
   "outputs": [
    {
     "data": {
      "image/png": "[encoded data removed]",
      "text/plain": [
       "<Figure size 72x360 with 1 Axes>"
      ]
     },
     "execution_count": 37,
     "metadata": {},
     "output_type": "execute_result"
    }
   ],
   "source": [
    "#creating the simulation and then a curcuit for it to loop around\n",
    "#and then finally output the graph\n",
    "sim = aer.QasmSimulator()\n",
    "cc = qiskit.transpile(c, sim)\n",
    "j = sim.run(cc,shots=1000)\n",
    "result = j.result()\n",
    "count = result.get_counts()\n",
    "qiskit.visualization.plot_histogram(count, figsize=(1,5))"
   ]
  },
  {
   "cell_type": "markdown",
   "metadata": {},
   "source": [
    "***\n",
    "### Complex numbers\n",
    "$$a + bi \\qquad a,b \\in \\mathbb{R} \\qquad i^2 = -1 \\qquad \\mathrm{e.g} -2.0 + 5.0i$$\n",
    "##### Setup\n",
    "***\n"
   ]
  },
  {
   "cell_type": "code",
   "execution_count": 38,
   "metadata": {},
   "outputs": [],
   "source": [
    "#plots & numpy libs\n",
    "import matplotlib.pyplot as plt\n",
    "import numpy as np"
   ]
  },
  {
   "cell_type": "code",
   "execution_count": 39,
   "metadata": {},
   "outputs": [],
   "source": [
    "plt.rcParams['figure.figsize'] = (20,15)\n",
    "plt.style.use('seaborn-whitegrid')"
   ]
  },
  {
   "cell_type": "code",
   "execution_count": 40,
   "metadata": {},
   "outputs": [
    {
     "data": {
      "text/plain": [
       "(-1+0j)"
      ]
     },
     "execution_count": 40,
     "metadata": {},
     "output_type": "execute_result"
    }
   ],
   "source": [
    "#multiplying complex numbers\n",
    "1.0j * 1.0j"
   ]
  },
  {
   "cell_type": "code",
   "execution_count": 41,
   "metadata": {},
   "outputs": [
    {
     "data": {
      "text/plain": [
       "(-2+5j)"
      ]
     },
     "execution_count": 41,
     "metadata": {},
     "output_type": "execute_result"
    }
   ],
   "source": [
    "x = -2.0 + 5.0j\n",
    "x"
   ]
  },
  {
   "cell_type": "code",
   "execution_count": 43,
   "metadata": {},
   "outputs": [
    {
     "data": {
      "text/plain": [
       "(-21-20j)"
      ]
     },
     "execution_count": 43,
     "metadata": {},
     "output_type": "execute_result"
    }
   ],
   "source": [
    "# to the power of 2\n",
    "x**2"
   ]
  },
  {
   "cell_type": "code",
   "execution_count": 44,
   "metadata": {},
   "outputs": [
    {
     "name": "stdout",
     "output_type": "stream",
     "text": [
      "(3+1.5j)\n"
     ]
    },
    {
     "data": {
      "text/plain": [
       "(1+6.5j)"
      ]
     },
     "execution_count": 44,
     "metadata": {},
     "output_type": "execute_result"
    }
   ],
   "source": [
    "y = 3.0 + 1.5j\n",
    "print(y)\n",
    "x + y"
   ]
  },
  {
   "cell_type": "code",
   "execution_count": 45,
   "metadata": {},
   "outputs": [
    {
     "data": {
      "text/plain": [
       "(-13.5+12j)"
      ]
     },
     "execution_count": 45,
     "metadata": {},
     "output_type": "execute_result"
    }
   ],
   "source": [
    "x*y"
   ]
  },
  {
   "cell_type": "markdown",
   "metadata": {},
   "source": [
    "***\n",
    "### Pairs"
   ]
  },
  {
   "cell_type": "code",
   "execution_count": 51,
   "metadata": {},
   "outputs": [],
   "source": [
    "def addition(a,b):\n",
    "    return [a[0] + b[0], a[1] + b[1]]"
   ]
  },
  {
   "cell_type": "code",
   "execution_count": 52,
   "metadata": {},
   "outputs": [
    {
     "data": {
      "text/plain": [
       "[1.0, 6.5]"
      ]
     },
     "execution_count": 52,
     "metadata": {},
     "output_type": "execute_result"
    }
   ],
   "source": [
    "addition(x,y)"
   ]
  },
  {
   "cell_type": "code",
   "execution_count": 53,
   "metadata": {},
   "outputs": [],
   "source": [
    "def multiply(a,b):\n",
    "    f,p = a\n",
    "    m,s = b\n",
    "    return [(f*m) - (p*s), (p*m) + (f*m)]"
   ]
  },
  {
   "cell_type": "code",
   "execution_count": 54,
   "metadata": {},
   "outputs": [
    {
     "data": {
      "text/plain": [
       "[-13.5, 9.0]"
      ]
     },
     "execution_count": 54,
     "metadata": {},
     "output_type": "execute_result"
    }
   ],
   "source": [
    "multiply(x,y)"
   ]
  },
  {
   "cell_type": "markdown",
   "metadata": {},
   "source": [
    "***\n",
    "### Origin\n",
    "$$a x^2 + bx + c \\qquad \\textrm{e.g.} \\ x^2 - 5x + 6 \\qquad \\textrm{e.g.} \\ 2x^2 + 5x + 10 \\qquad x = \\frac{-b \\pm \\sqrt{b^2 - 4ac}}{2a}$$ "
   ]
  },
  {
   "cell_type": "code",
   "execution_count": 67,
   "metadata": {},
   "outputs": [],
   "source": [
    "#function within a function\n",
    "class quad:\n",
    "    def __init__(self, a,b,c):\n",
    "        self.a = a\n",
    "        self.b = b\n",
    "        self.c = c\n",
    "    \n",
    "    def __call__(self, x):\n",
    "        return self.a * x**2 + self.b * x + self.c"
   ]
  },
  {
   "cell_type": "code",
   "execution_count": 76,
   "metadata": {},
   "outputs": [
    {
     "data": {
      "text/plain": [
       "<__main__.quad at 0x7fc1fc01bc70>"
      ]
     },
     "execution_count": 76,
     "metadata": {},
     "output_type": "execute_result"
    }
   ],
   "source": [
    "z = quad(a=1.0, b=-5.0, c=6.0)\n",
    "z"
   ]
  },
  {
   "cell_type": "code",
   "execution_count": 77,
   "metadata": {},
   "outputs": [
    {
     "data": {
      "text/plain": [
       "2.0"
      ]
     },
     "execution_count": 77,
     "metadata": {},
     "output_type": "execute_result"
    }
   ],
   "source": [
    "z(1.0)"
   ]
  },
  {
   "cell_type": "code",
   "execution_count": 78,
   "metadata": {},
   "outputs": [],
   "source": [
    "# spaces in an arra of 1k between 0 and 3\n",
    "x = np.linspace(0.0,5.0,1000)"
   ]
  },
  {
   "cell_type": "code",
   "execution_count": 79,
   "metadata": {},
   "outputs": [
    {
     "data": {
      "text/plain": [
       "<matplotlib.lines.Line2D at 0x7fc1fb362fa0>"
      ]
     },
     "execution_count": 79,
     "metadata": {},
     "output_type": "execute_result"
    },
    {
     "data": {
      "image/png": "[encoded data removed]",
      "text/plain": [
       "<Figure size 1440x1080 with 1 Axes>"
      ]
     },
     "metadata": {},
     "output_type": "display_data"
    }
   ],
   "source": [
    "fig,ax = plt.subplots()\n",
    "ax.plot(x,z(x))\n",
    "ax.axhline(y=0,color='k')\n",
    "ax.axvline(x=0,color='k')"
   ]
  },
  {
   "cell_type": "code",
   "execution_count": 80,
   "metadata": {},
   "outputs": [],
   "source": [
    "def sol(p):\n",
    "    a,b,c = p.a,p.b,p.c\n",
    "    n1 = (-b - (b**2 - 4 * a * c) **0.5) / (2*a)\n",
    "    n2 = (-b + (b**2 - 4 * a * c) **0.5) / (2*a)\n",
    "    return[n1,n2]"
   ]
  },
  {
   "cell_type": "code",
   "execution_count": 81,
   "metadata": {},
   "outputs": [
    {
     "data": {
      "text/plain": [
       "[2.0, 3.0]"
      ]
     },
     "execution_count": 81,
     "metadata": {},
     "output_type": "execute_result"
    }
   ],
   "source": [
    "sol(z)"
   ]
  },
  {
   "cell_type": "markdown",
   "metadata": {},
   "source": [
    "***\n",
    "### No Hit\n",
    "$$ax^2 + bx + c = (1.0)x^2 + (0.0)x + (1.0) = x^2 + 1$$"
   ]
  },
  {
   "cell_type": "code",
   "execution_count": 84,
   "metadata": {},
   "outputs": [],
   "source": [
    "z = quad(a=1.0, b=0.0, c=1.0)\n",
    "x = np.linspace(-2.0,2.0,1000)"
   ]
  },
  {
   "cell_type": "code",
   "execution_count": 85,
   "metadata": {},
   "outputs": [
    {
     "data": {
      "text/plain": [
       "<matplotlib.lines.Line2D at 0x7fc1fcdd43a0>"
      ]
     },
     "execution_count": 85,
     "metadata": {},
     "output_type": "execute_result"
    },
    {
     "data": {
      "image/png": "[encoded data removed]",
      "text/plain": [
       "<Figure size 1440x1080 with 1 Axes>"
      ]
     },
     "metadata": {},
     "output_type": "display_data"
    }
   ],
   "source": [
    "fig,ax = plt.subplots()\n",
    "ax.plot(x,z(x))\n",
    "ax.axhline(y=0,color='k')\n",
    "ax.axvline(x=0,color='k')"
   ]
  },
  {
   "cell_type": "code",
   "execution_count": 90,
   "metadata": {},
   "outputs": [],
   "source": [
    "x1,x2 = sol(z)"
   ]
  },
  {
   "cell_type": "code",
   "execution_count": 91,
   "metadata": {},
   "outputs": [
    {
     "data": {
      "text/plain": [
       "'x1 = -0.0-1.0j, x2 = 0.0+1.0j'"
      ]
     },
     "execution_count": 91,
     "metadata": {},
     "output_type": "execute_result"
    }
   ],
   "source": [
    "f\"x1 = {x1:.1f}, x2 = {x2:.1f}\""
   ]
  },
  {
   "cell_type": "code",
   "execution_count": 92,
   "metadata": {},
   "outputs": [
    {
     "data": {
      "text/plain": [
       "<matplotlib.lines.Line2D at 0x7fc1fb54ea60>"
      ]
     },
     "execution_count": 92,
     "metadata": {},
     "output_type": "execute_result"
    },
    {
     "data": {
      "image/png": "[encoded data removed]",
      "text/plain": [
       "<Figure size 1440x1080 with 1 Axes>"
      ]
     },
     "metadata": {},
     "output_type": "display_data"
    }
   ],
   "source": [
    "#data\n",
    "z = quad(a=2.0, b=5.0, c=10.0)\n",
    "x = np.linspace(-4.5,2.0,1000)\n",
    "#graph\n",
    "fig,ax = plt.subplots()\n",
    "ax.plot(x,z(x))\n",
    "ax.axhline(y=0,color='k')\n",
    "ax.axvline(x=0,color='k')"
   ]
  },
  {
   "cell_type": "code",
   "execution_count": 97,
   "metadata": {},
   "outputs": [
    {
     "name": "stdout",
     "output_type": "stream",
     "text": [
      "(-1.2500000000000002-1.8540496217739157j) (-1.2499999999999998+1.8540496217739157j)\n"
     ]
    },
    {
     "data": {
      "text/plain": [
       "'x1 = -1.3-1.9j, x2 = -1.2+1.9j'"
      ]
     },
     "execution_count": 97,
     "metadata": {},
     "output_type": "execute_result"
    }
   ],
   "source": [
    "x1,x2 = sol(z)\n",
    "print(x1,x2)\n",
    "f\"x1 = {x1:.1f}, x2 = {x2:.1f}\""
   ]
  },
  {
   "cell_type": "markdown",
   "metadata": {},
   "source": [
    "***\n",
    "### Balanced and Constant Func's"
   ]
  },
  {
   "cell_type": "code",
   "execution_count": 122,
   "metadata": {},
   "outputs": [],
   "source": [
    "#random library\n",
    "import random as rand\n",
    "# permutations and combos\n",
    "import itertools"
   ]
  },
  {
   "cell_type": "markdown",
   "metadata": {},
   "source": [
    "***\n",
    "### Sinlge bit inputs \n",
    "\n",
    "x is the bit\n",
    "\n",
    "values can be a 0 and 1"
   ]
  },
  {
   "cell_type": "code",
   "execution_count": 123,
   "metadata": {},
   "outputs": [],
   "source": [
    "#const func that returns a value of 1\n",
    "def uno(x):\n",
    "    return 1"
   ]
  },
  {
   "cell_type": "code",
   "execution_count": 124,
   "metadata": {},
   "outputs": [
    {
     "data": {
      "text/plain": [
       "1"
      ]
     },
     "execution_count": 124,
     "metadata": {},
     "output_type": "execute_result"
    }
   ],
   "source": [
    "# you can pass any number you will always get 1\n",
    "uno(0)"
   ]
  },
  {
   "cell_type": "code",
   "execution_count": 125,
   "metadata": {},
   "outputs": [
    {
     "data": {
      "text/plain": [
       "1"
      ]
     },
     "execution_count": 125,
     "metadata": {},
     "output_type": "execute_result"
    }
   ],
   "source": [
    "uno(1)"
   ]
  },
  {
   "cell_type": "code",
   "execution_count": 126,
   "metadata": {},
   "outputs": [],
   "source": [
    "def zero(x):\n",
    "    return 0"
   ]
  },
  {
   "cell_type": "code",
   "execution_count": 127,
   "metadata": {},
   "outputs": [
    {
     "data": {
      "text/plain": [
       "0"
      ]
     },
     "execution_count": 127,
     "metadata": {},
     "output_type": "execute_result"
    }
   ],
   "source": [
    "#you can pass any number you will always get 1\n",
    "zero(0)"
   ]
  },
  {
   "cell_type": "code",
   "execution_count": 128,
   "metadata": {},
   "outputs": [
    {
     "data": {
      "text/plain": [
       "0"
      ]
     },
     "execution_count": 128,
     "metadata": {},
     "output_type": "execute_result"
    }
   ],
   "source": [
    "zero(1)"
   ]
  },
  {
   "cell_type": "code",
   "execution_count": 129,
   "metadata": {},
   "outputs": [],
   "source": [
    "# with this function you get back what you pass in\n",
    "def duo(x):\n",
    "    return x"
   ]
  },
  {
   "cell_type": "code",
   "execution_count": 130,
   "metadata": {},
   "outputs": [
    {
     "data": {
      "text/plain": [
       "1"
      ]
     },
     "execution_count": 130,
     "metadata": {},
     "output_type": "execute_result"
    }
   ],
   "source": [
    "duo(1)"
   ]
  },
  {
   "cell_type": "code",
   "execution_count": 131,
   "metadata": {},
   "outputs": [
    {
     "data": {
      "text/plain": [
       "0"
      ]
     },
     "execution_count": 131,
     "metadata": {},
     "output_type": "execute_result"
    }
   ],
   "source": [
    "duo(0)"
   ]
  },
  {
   "cell_type": "code",
   "execution_count": 132,
   "metadata": {},
   "outputs": [],
   "source": [
    "#gives you a 1 if you pass a 0 or 0 if you pass 1\n",
    "def swap(x):\n",
    "    return ((x+1)%2)"
   ]
  },
  {
   "cell_type": "code",
   "execution_count": 133,
   "metadata": {},
   "outputs": [
    {
     "data": {
      "text/plain": [
       "0"
      ]
     },
     "execution_count": 133,
     "metadata": {},
     "output_type": "execute_result"
    }
   ],
   "source": [
    "swap(1)"
   ]
  },
  {
   "cell_type": "code",
   "execution_count": 134,
   "metadata": {},
   "outputs": [
    {
     "data": {
      "text/plain": [
       "1"
      ]
     },
     "execution_count": 134,
     "metadata": {},
     "output_type": "execute_result"
    }
   ],
   "source": [
    "swap(0)"
   ]
  },
  {
   "cell_type": "markdown",
   "metadata": {},
   "source": [
    "- with the 4 functions created you an get 4 different outcomes \n",
    "\n",
    "| x | uno(x) | zero(x) | duo(x) | swap(x) |\n",
    "|---|--------|---------|--------|---------|\n",
    "| 0 |    1   |    0    |    0   |    1    |\n",
    "| 1 |    1   |    0    |    1   |    0    |"
   ]
  },
  {
   "cell_type": "code",
   "execution_count": 135,
   "metadata": {},
   "outputs": [],
   "source": [
    "# here we will make an list and fill it with functions\n",
    "funcs = [uno,zero,duo,swap]"
   ]
  },
  {
   "cell_type": "code",
   "execution_count": 137,
   "metadata": {},
   "outputs": [],
   "source": [
    "fc = rand.choice(funcs)"
   ]
  },
  {
   "cell_type": "code",
   "execution_count": 140,
   "metadata": {},
   "outputs": [
    {
     "data": {
      "text/plain": [
       "1"
      ]
     },
     "execution_count": 140,
     "metadata": {},
     "output_type": "execute_result"
    }
   ],
   "source": [
    "fc(0)"
   ]
  },
  {
   "cell_type": "code",
   "execution_count": 141,
   "metadata": {},
   "outputs": [
    {
     "data": {
      "text/plain": [
       "1"
      ]
     },
     "execution_count": 141,
     "metadata": {},
     "output_type": "execute_result"
    }
   ],
   "source": [
    "fc(1)"
   ]
  },
  {
   "cell_type": "markdown",
   "metadata": {},
   "source": [
    "- above was testing to see if it was constant or balanced, but this can change on other executions\n",
    "***\n",
    "### Two Bits\n",
    "|  x1   |  x2   | f | f | f | f | f | f | f | f | f | f | f | f | f | f | f | f |\n",
    "|-------|-------|---|---|---|---|---|---|---|---|---|---|---|---|---|---|---|---|\n",
    "| **0** | **0** | 0 | 0 | 0 | 0 | 0 | 0 | 0 | 0 | 1 | 1 | 1 | 1 | 1 | 1 | 1 | 1 |\n",
    "| **0** | **1** | 0 | 0 | 0 | 0 | 1 | 1 | 1 | 1 | 0 | 0 | 0 | 0 | 1 | 1 | 1 | 1 |\n",
    "| **1** | **0** | 0 | 0 | 1 | 1 | 0 | 0 | 1 | 1 | 0 | 0 | 1 | 1 | 0 | 0 | 1 | 1 |\n",
    "| **1** | **1** | 0 | 1 | 0 | 1 | 0 | 1 | 0 | 1 | 0 | 1 | 0 | 1 | 0 | 1 | 0 | 1 | "
   ]
  },
  {
   "cell_type": "code",
   "execution_count": 142,
   "metadata": {},
   "outputs": [
    {
     "data": {
      "text/plain": [
       "[0, 0, 0, 0]"
      ]
     },
     "execution_count": 142,
     "metadata": {},
     "output_type": "execute_result"
    }
   ],
   "source": [
    "#input bits\n",
    "n =2\n",
    "#constant 0 function takes the items in the list and multiplys it by 2**n\n",
    "[0] * 2**n"
   ]
  },
  {
   "cell_type": "code",
   "execution_count": 143,
   "metadata": {},
   "outputs": [
    {
     "data": {
      "text/plain": [
       "[1, 1, 1, 1]"
      ]
     },
     "execution_count": 143,
     "metadata": {},
     "output_type": "execute_result"
    }
   ],
   "source": [
    "[1] * 2**n"
   ]
  },
  {
   "cell_type": "code",
   "execution_count": 145,
   "metadata": {},
   "outputs": [
    {
     "data": {
      "text/plain": [
       "[[1, 1, 0, 0],\n",
       " [1, 1, 0, 0],\n",
       " [1, 0, 1, 0],\n",
       " [1, 0, 1, 0],\n",
       " [1, 0, 0, 1],\n",
       " [1, 0, 0, 1],\n",
       " [0, 1, 1, 0],\n",
       " [0, 1, 1, 0],\n",
       " [0, 1, 0, 1],\n",
       " [0, 1, 0, 1],\n",
       " [0, 0, 1, 1],\n",
       " [0, 0, 1, 1]]"
      ]
     },
     "execution_count": 145,
     "metadata": {},
     "output_type": "execute_result"
    }
   ],
   "source": [
    "# this function will generate balanced functions\n",
    "def bal_func(inputBits):\n",
    "    #size of the list\n",
    "    size = 2**inputBits\n",
    "    count = size // 2\n",
    "    for pos in itertools.combinations(range(size), count):\n",
    "        p = [0] * size\n",
    "        for i in pos:\n",
    "            p[i] = 1\n",
    "            # make the list here\n",
    "            yield p\n",
    "list(bal_func(2))"
   ]
  },
  {
   "cell_type": "code",
   "execution_count": 146,
   "metadata": {},
   "outputs": [],
   "source": [
    "#create both const and balanced functions\n",
    "def gen_funcs(n):\n",
    "    return list(bal_func(n)) + [[0] * 2**n, [1] * 2**n]"
   ]
  },
  {
   "cell_type": "code",
   "execution_count": 147,
   "metadata": {},
   "outputs": [
    {
     "data": {
      "text/plain": [
       "[[1, 1, 0, 0],\n",
       " [1, 1, 0, 0],\n",
       " [1, 0, 1, 0],\n",
       " [1, 0, 1, 0],\n",
       " [1, 0, 0, 1],\n",
       " [1, 0, 0, 1],\n",
       " [0, 1, 1, 0],\n",
       " [0, 1, 1, 0],\n",
       " [0, 1, 0, 1],\n",
       " [0, 1, 0, 1],\n",
       " [0, 0, 1, 1],\n",
       " [0, 0, 1, 1],\n",
       " [0, 0, 0, 0],\n",
       " [1, 1, 1, 1]]"
      ]
     },
     "execution_count": 147,
     "metadata": {},
     "output_type": "execute_result"
    }
   ],
   "source": [
    "gen_funcs(n)"
   ]
  },
  {
   "cell_type": "code",
   "execution_count": 148,
   "metadata": {},
   "outputs": [],
   "source": [
    "def randf(n):\n",
    "    funcs = gen_funcs(n)\n",
    "    return rand.choice(funcs)"
   ]
  },
  {
   "cell_type": "code",
   "execution_count": 149,
   "metadata": {},
   "outputs": [],
   "source": [
    "f = randf(2)"
   ]
  },
  {
   "cell_type": "code",
   "execution_count": 150,
   "metadata": {},
   "outputs": [
    {
     "data": {
      "text/plain": [
       "[1, 0, 0, 1]"
      ]
     },
     "execution_count": 150,
     "metadata": {},
     "output_type": "execute_result"
    }
   ],
   "source": [
    "f"
   ]
  },
  {
   "cell_type": "code",
   "execution_count": 151,
   "metadata": {},
   "outputs": [],
   "source": [
    "def randomf(n):\n",
    "    # get both balanced and constant functions in a list\n",
    "    funcs = gen_funcs(n)\n",
    "    # a function gets picked at random\n",
    "    r = rand.choice(funcs)\n",
    "    def f(*x):\n",
    "        #reverse bit here\n",
    "        x = x[::-1]\n",
    "        rpos = 0\n",
    "        # loop over what is in x\n",
    "        for i in range(len(x)):\n",
    "            #multiply pos of x by 2**i\n",
    "            rpos = rpos + (x[i] * 2**i)\n",
    "        return r[rpos]\n",
    "    return f"
   ]
  },
  {
   "cell_type": "code",
   "execution_count": 154,
   "metadata": {},
   "outputs": [
    {
     "data": {
      "text/plain": [
       "0"
      ]
     },
     "execution_count": 154,
     "metadata": {},
     "output_type": "execute_result"
    }
   ],
   "source": [
    "f = randomf(2)\n",
    "f(1,1)"
   ]
  },
  {
   "cell_type": "code",
   "execution_count": 155,
   "metadata": {},
   "outputs": [
    {
     "data": {
      "text/plain": [
       "1"
      ]
     },
     "execution_count": 155,
     "metadata": {},
     "output_type": "execute_result"
    }
   ],
   "source": [
    "f(0,1)"
   ]
  },
  {
   "cell_type": "markdown",
   "metadata": {},
   "source": [
    "***\n",
    "### Classic "
   ]
  },
  {
   "cell_type": "code",
   "execution_count": 157,
   "metadata": {},
   "outputs": [
    {
     "data": {
      "text/plain": [
       "[(0, 0), (0, 1), (1, 0), (1, 1)]"
      ]
     },
     "execution_count": 157,
     "metadata": {},
     "output_type": "execute_result"
    }
   ],
   "source": [
    "n = 2\n",
    "f = randomf(n)\n",
    "list(itertools.product(*[(0,1)] * n))"
   ]
  },
  {
   "cell_type": "code",
   "execution_count": 160,
   "metadata": {},
   "outputs": [],
   "source": [
    "def bal_or_const(f,n):\n",
    "    #always think f is a constant\n",
    "    constant = True\n",
    "    #last value returned\n",
    "    last = None\n",
    "    # no of loops\n",
    "    i = 0\n",
    "    # loop over all possible inputs\n",
    "    for inputs in itertools.product(*[(0,1)] * n):\n",
    "        #turns list into params\n",
    "        cur = f(*inputs)\n",
    "        print(f\"Try: {inputs} Return: {cur} Last: {last}\")\n",
    "        #comparing last with current\n",
    "        if last is not None and cur != last:\n",
    "            constant = False\n",
    "            break\n",
    "        last = cur\n",
    "        # add to the count\n",
    "        i = i + 1\n",
    "        if i > 2**(n-1):\n",
    "            break\n",
    "    if constant:\n",
    "        print(\"Constant\")\n",
    "    else:\n",
    "        print(\"Balanced\")"
   ]
  },
  {
   "cell_type": "code",
   "execution_count": 161,
   "metadata": {},
   "outputs": [
    {
     "name": "stdout",
     "output_type": "stream",
     "text": [
      "Try: (0, 0) Return: 1 Last: None\n",
      "Try: (0, 1) Return: 1 Last: 1\n",
      "Try: (1, 0) Return: 1 Last: 1\n",
      "Constant\n"
     ]
    }
   ],
   "source": [
    "bal_or_const(f,n)"
   ]
  },
  {
   "cell_type": "markdown",
   "metadata": {},
   "source": [
    "***\n",
    "### Two bits or more\n",
    "- the more bits that are input it lessens the chance of getting a constant function"
   ]
  },
  {
   "cell_type": "code",
   "execution_count": 162,
   "metadata": {},
   "outputs": [
    {
     "name": "stdout",
     "output_type": "stream",
     "text": [
      "Try: (0, 0, 0, 0) Return: 0 Last: None\n",
      "Try: (0, 0, 0, 1) Return: 1 Last: 0\n",
      "Balanced\n"
     ]
    }
   ],
   "source": [
    "n = 4\n",
    "f = randomf(n)\n",
    "bal_or_const(f,n)"
   ]
  },
  {
   "cell_type": "markdown",
   "metadata": {},
   "source": [
    "- and as you an see with the above return values you dont get constant like in the one done before"
   ]
  },
  {
   "cell_type": "markdown",
   "metadata": {},
   "source": [
    "***\n",
    "# Refrences\n",
    "- Quantum Computing and Normal computing: Notes i had from a presentation from second year i did on Quantum Computing\n",
    "- Code: Video by Ian Mcloughlin from labs on Quatum-Deutsch"
   ]
  },
  {
   "cell_type": "code",
   "execution_count": null,
   "metadata": {},
   "outputs": [],
   "source": []
  }
 ],
 "metadata": {
  "kernelspec": {
   "display_name": "Python 3",
   "language": "python",
   "name": "python3"
  },
  "language_info": {
   "codemirror_mode": {
    "name": "ipython",
    "version": 3
   },
   "file_extension": ".py",
   "mimetype": "text/x-python",
   "name": "python",
   "nbconvert_exporter": "python",
   "pygments_lexer": "ipython3",
   "version": "3.8.5"
  }
 },
 "nbformat": 4,
 "nbformat_minor": 4
}
